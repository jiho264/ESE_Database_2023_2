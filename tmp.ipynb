{
 "cells": [
  {
   "cell_type": "code",
   "execution_count": 5,
   "metadata": {},
   "outputs": [
    {
     "data": {
      "text/plain": [
       "[(123, 'Amy', 3.9, 1000),\n",
       " (234, 'Bob', 3.6, 1500),\n",
       " (345, 'Craig', 3.5, 500),\n",
       " (456, 'Doris', 3.9, 1000),\n",
       " (567, 'Edward', 2.9, 2000),\n",
       " (678, 'Fay', 3.8, 200),\n",
       " (789, 'Gary', 3.4, 800),\n",
       " (987, 'Helen', 3.7, 800),\n",
       " (876, 'Irene', 3.9, 400),\n",
       " (765, 'Jay', 2.9, 1500),\n",
       " (654, 'Amy', 3.9, 1000),\n",
       " (543, 'Craig', 3.4, 2000)]"
      ]
     },
     "execution_count": 5,
     "metadata": {},
     "output_type": "execute_result"
    }
   ],
   "source": [
    "import sqlite3\n",
    "\n",
    "conn = sqlite3.connect(\"studyfinalexam.sqlite\")\n",
    "\n",
    "cur = conn.cursor()\n",
    "\n",
    "ans = cur.execute('select * from student')\n",
    "\n",
    "ans.fetchall()"
   ]
  },
  {
   "cell_type": "code",
   "execution_count": null,
   "metadata": {},
   "outputs": [],
   "source": []
  }
 ],
 "metadata": {
  "kernelspec": {
   "display_name": "Python 3",
   "language": "python",
   "name": "python3"
  },
  "language_info": {
   "codemirror_mode": {
    "name": "ipython",
    "version": 3
   },
   "file_extension": ".py",
   "mimetype": "text/x-python",
   "name": "python",
   "nbconvert_exporter": "python",
   "pygments_lexer": "ipython3",
   "version": "3.12.0"
  }
 },
 "nbformat": 4,
 "nbformat_minor": 2
}
