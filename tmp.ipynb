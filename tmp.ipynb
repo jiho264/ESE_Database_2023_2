{
 "cells": [
  {
   "cell_type": "code",
   "execution_count": 22,
   "metadata": {},
   "outputs": [],
   "source": [
    "import numpy as np\n",
    "SHAPE = 10"
   ]
  },
  {
   "cell_type": "markdown",
   "metadata": {},
   "source": [
    "### (n, n) matrix"
   ]
  },
  {
   "cell_type": "code",
   "execution_count": 23,
   "metadata": {},
   "outputs": [
    {
     "data": {
      "text/plain": [
       "0.10138344481238147"
      ]
     },
     "execution_count": 23,
     "metadata": {},
     "output_type": "execute_result"
    }
   ],
   "source": [
    "w0 = np.random.randn(SHAPE, SHAPE)*0.01\n",
    "np.linalg.norm(w0, ord=\"fro\")"
   ]
  },
  {
   "cell_type": "code",
   "execution_count": 24,
   "metadata": {},
   "outputs": [
    {
     "data": {
      "text/plain": [
       "2.9005564838935984"
      ]
     },
     "execution_count": 24,
     "metadata": {},
     "output_type": "execute_result"
    }
   ],
   "source": [
    "w1 = np.random.randn(SHAPE, SHAPE) * np.sqrt(1 / SHAPE)\n",
    "np.linalg.norm(w1, ord=\"fro\")"
   ]
  },
  {
   "cell_type": "code",
   "execution_count": 25,
   "metadata": {},
   "outputs": [
    {
     "data": {
      "text/plain": [
       "3.1622776601683795"
      ]
     },
     "execution_count": 25,
     "metadata": {},
     "output_type": "execute_result"
    }
   ],
   "source": [
    "identity1 = np.eye(SHAPE)\n",
    "np.linalg.norm(identity1, ord=\"fro\")"
   ]
  },
  {
   "cell_type": "markdown",
   "metadata": {},
   "source": [
    "---"
   ]
  },
  {
   "cell_type": "markdown",
   "metadata": {},
   "source": [
    "### (n*2, n) matrix"
   ]
  },
  {
   "cell_type": "code",
   "execution_count": 26,
   "metadata": {},
   "outputs": [
    {
     "data": {
      "text/plain": [
       "0.13956049659178474"
      ]
     },
     "execution_count": 26,
     "metadata": {},
     "output_type": "execute_result"
    }
   ],
   "source": [
    "w0 = np.random.randn(SHAPE*2, SHAPE)*0.01\n",
    "np.linalg.norm(w0, ord=\"fro\")"
   ]
  },
  {
   "cell_type": "code",
   "execution_count": 27,
   "metadata": {},
   "outputs": [
    {
     "data": {
      "text/plain": [
       "4.493378986001303"
      ]
     },
     "execution_count": 27,
     "metadata": {},
     "output_type": "execute_result"
    }
   ],
   "source": [
    "w2 = np.random.randn(SHAPE*2, SHAPE) * np.sqrt(1 / SHAPE)\n",
    "np.linalg.norm(w2, ord=\"fro\")"
   ]
  },
  {
   "cell_type": "code",
   "execution_count": 28,
   "metadata": {},
   "outputs": [
    {
     "data": {
      "text/plain": [
       "3.1622776601683795"
      ]
     },
     "execution_count": 28,
     "metadata": {},
     "output_type": "execute_result"
    }
   ],
   "source": [
    "identity2 = np.eye(SHAPE*2, SHAPE)\n",
    "np.linalg.norm(identity2, ord=\"fro\")"
   ]
  },
  {
   "cell_type": "markdown",
   "metadata": {},
   "source": [
    "---"
   ]
  },
  {
   "cell_type": "markdown",
   "metadata": {},
   "source": [
    "### (n, n*2) matrix"
   ]
  },
  {
   "cell_type": "code",
   "execution_count": 29,
   "metadata": {},
   "outputs": [
    {
     "data": {
      "text/plain": [
       "0.14317759920315132"
      ]
     },
     "execution_count": 29,
     "metadata": {},
     "output_type": "execute_result"
    }
   ],
   "source": [
    "w0 = np.random.randn(SHAPE, SHAPE*2)*0.01\n",
    "np.linalg.norm(w0, ord=\"fro\")"
   ]
  },
  {
   "cell_type": "code",
   "execution_count": 30,
   "metadata": {},
   "outputs": [
    {
     "data": {
      "text/plain": [
       "4.799329748394171"
      ]
     },
     "execution_count": 30,
     "metadata": {},
     "output_type": "execute_result"
    }
   ],
   "source": [
    "w3 = np.random.randn(SHAPE, SHAPE*2) * np.sqrt(1 / SHAPE*1)\n",
    "np.linalg.norm(w3, ord=\"fro\")"
   ]
  },
  {
   "cell_type": "code",
   "execution_count": 31,
   "metadata": {},
   "outputs": [
    {
     "data": {
      "text/plain": [
       "3.1622776601683795"
      ]
     },
     "execution_count": 31,
     "metadata": {},
     "output_type": "execute_result"
    }
   ],
   "source": [
    "identity3 = np.eye(SHAPE, SHAPE*2)\n",
    "np.linalg.norm(identity3, ord=\"fro\")"
   ]
  },
  {
   "cell_type": "code",
   "execution_count": 32,
   "metadata": {},
   "outputs": [
    {
     "data": {
      "text/plain": [
       "6.4729824352209775"
      ]
     },
     "execution_count": 32,
     "metadata": {},
     "output_type": "execute_result"
    }
   ],
   "source": [
    "w3 = np.random.randn(SHAPE, SHAPE * 2) * np.sqrt(1 / SHAPE * 2)\n",
    "np.linalg.norm(w3, ord=\"fro\")"
   ]
  },
  {
   "cell_type": "code",
   "execution_count": 39,
   "metadata": {},
   "outputs": [],
   "source": [
    "a = 10**np.random.uniform(-5, -3, 1000)"
   ]
  },
  {
   "cell_type": "code",
   "execution_count": 41,
   "metadata": {},
   "outputs": [
    {
     "data": {
      "text/plain": [
       "(array([149.,  87.,  55.,  50.,  41.,  29.,  27.,  30.,  30.,  23.,  13.,\n",
       "         27.,  20.,  16.,  11.,  15.,   8.,   8.,  14.,   8.,   7.,  12.,\n",
       "         16.,   7.,   8.,   9.,   4.,   5.,   9.,   7.,   9.,   5.,   9.,\n",
       "          8.,   4.,   7.,   6.,   8.,   4.,   5.,   4.,   7.,   7.,   3.,\n",
       "          4.,   6.,   2.,   4.,   6.,   5.,   3.,   1.,   2.,   3.,   5.,\n",
       "          4.,   5.,   4.,   3.,   4.,   3.,   2.,   3.,   2.,   4.,   5.,\n",
       "          5.,   2.,   3.,   3.,   1.,   6.,   4.,   3.,   1.,   0.,   3.,\n",
       "          3.,   2.,   1.,   2.,   3.,   3.,   2.,   1.,   5.,   1.,   5.,\n",
       "          1.,   1.,   3.,   1.,   2.,   0.,   4.,   2.,   0.,   6.,   6.,\n",
       "          4.]),\n",
       " array([1.00537498e-05, 1.99518487e-05, 2.98499475e-05, 3.97480464e-05,\n",
       "        4.96461452e-05, 5.95442441e-05, 6.94423429e-05, 7.93404418e-05,\n",
       "        8.92385406e-05, 9.91366395e-05, 1.09034738e-04, 1.18932837e-04,\n",
       "        1.28830936e-04, 1.38729035e-04, 1.48627134e-04, 1.58525233e-04,\n",
       "        1.68423331e-04, 1.78321430e-04, 1.88219529e-04, 1.98117628e-04,\n",
       "        2.08015727e-04, 2.17913826e-04, 2.27811924e-04, 2.37710023e-04,\n",
       "        2.47608122e-04, 2.57506221e-04, 2.67404320e-04, 2.77302419e-04,\n",
       "        2.87200518e-04, 2.97098616e-04, 3.06996715e-04, 3.16894814e-04,\n",
       "        3.26792913e-04, 3.36691012e-04, 3.46589111e-04, 3.56487209e-04,\n",
       "        3.66385308e-04, 3.76283407e-04, 3.86181506e-04, 3.96079605e-04,\n",
       "        4.05977704e-04, 4.15875803e-04, 4.25773901e-04, 4.35672000e-04,\n",
       "        4.45570099e-04, 4.55468198e-04, 4.65366297e-04, 4.75264396e-04,\n",
       "        4.85162494e-04, 4.95060593e-04, 5.04958692e-04, 5.14856791e-04,\n",
       "        5.24754890e-04, 5.34652989e-04, 5.44551088e-04, 5.54449186e-04,\n",
       "        5.64347285e-04, 5.74245384e-04, 5.84143483e-04, 5.94041582e-04,\n",
       "        6.03939681e-04, 6.13837779e-04, 6.23735878e-04, 6.33633977e-04,\n",
       "        6.43532076e-04, 6.53430175e-04, 6.63328274e-04, 6.73226373e-04,\n",
       "        6.83124471e-04, 6.93022570e-04, 7.02920669e-04, 7.12818768e-04,\n",
       "        7.22716867e-04, 7.32614966e-04, 7.42513064e-04, 7.52411163e-04,\n",
       "        7.62309262e-04, 7.72207361e-04, 7.82105460e-04, 7.92003559e-04,\n",
       "        8.01901658e-04, 8.11799756e-04, 8.21697855e-04, 8.31595954e-04,\n",
       "        8.41494053e-04, 8.51392152e-04, 8.61290251e-04, 8.71188349e-04,\n",
       "        8.81086448e-04, 8.90984547e-04, 9.00882646e-04, 9.10780745e-04,\n",
       "        9.20678844e-04, 9.30576943e-04, 9.40475041e-04, 9.50373140e-04,\n",
       "        9.60271239e-04, 9.70169338e-04, 9.80067437e-04, 9.89965536e-04,\n",
       "        9.99863634e-04]),\n",
       " <BarContainer object of 100 artists>)"
      ]
     },
     "execution_count": 41,
     "metadata": {},
     "output_type": "execute_result"
    },
    {
     "data": {
      "image/png": "[encoded data removed]",
      "text/plain": [
       "<Figure size 640x480 with 1 Axes>"
      ]
     },
     "metadata": {},
     "output_type": "display_data"
    }
   ],
   "source": [
    "\n",
    "import matplotlib.pyplot as plt\n",
    "plt.hist(a, bins=100)"
   ]
  },
  {
   "cell_type": "code",
   "execution_count": null,
   "metadata": {},
   "outputs": [],
   "source": []
  }
 ],
 "metadata": {
  "kernelspec": {
   "display_name": "Python 3",
   "language": "python",
   "name": "python3"
  },
  "language_info": {
   "codemirror_mode": {
    "name": "ipython",
    "version": 3
   },
   "file_extension": ".py",
   "mimetype": "text/x-python",
   "name": "python",
   "nbconvert_exporter": "python",
   "pygments_lexer": "ipython3",
   "version": "3.12.0"
  }
 },
 "nbformat": 4,
 "nbformat_minor": 2
}
